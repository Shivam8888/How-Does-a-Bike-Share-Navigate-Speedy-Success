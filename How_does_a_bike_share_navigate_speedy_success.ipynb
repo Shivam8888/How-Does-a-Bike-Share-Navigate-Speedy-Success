{
  "nbformat": 4,
  "nbformat_minor": 0,
  "metadata": {
    "colab": {
      "name": "How does a bike-share navigate speedy success.ipynb",
      "provenance": []
    },
    "kernelspec": {
      "name": "python3",
      "display_name": "Python 3"
    },
    "language_info": {
      "name": "python"
    }
  },
  "cells": [
    {
      "cell_type": "code",
      "execution_count": 114,
      "metadata": {
        "id": "2lX3NA8JGQSf"
      },
      "outputs": [],
      "source": [
        "# importing the libraries\n",
        "import numpy as np\n",
        "import pandas as pd\n",
        "import matplotlib.pyplot as plt\n",
        "import seaborn as sns"
      ]
    },
    {
      "cell_type": "code",
      "source": [
        "# loading the dataset \n",
        "\n",
        "df_1 = pd.read_csv(\"/content/202103-divvy-tripdata.csv\")\n",
        "df_2 = pd.read_csv(\"/content/202104-divvy-tripdata.csv\")\n",
        "df_3 = pd.read_csv(\"/content/202105-divvy-tripdata.csv\")\n",
        "df_4 = pd.read_csv(\"/content/202106-divvy-tripdata.csv\")\n",
        "df_5 = pd.read_csv(\"/content/202107-divvy-tripdata.csv\")\n",
        "df_6 = pd.read_csv(\"/content/202108-divvy-tripdata.csv\")\n",
        "df_7 = pd.read_csv(\"/content/202109-divvy-tripdata.csv\")\n",
        "df_8 = pd.read_csv(\"/content/202110-divvy-tripdata.csv\")\n",
        "df_9 = pd.read_csv(\"/content/202111-divvy-tripdata.csv\")\n",
        "df_10 = pd.read_csv(\"/content/202112-divvy-tripdata.csv\")\n",
        "df_11 = pd.read_csv(\"/content/202201-divvy-tripdata.csv\")\n",
        "df_12 = pd.read_csv(\"/content/202202-divvy-tripdata.csv\")"
      ],
      "metadata": {
        "id": "B9TWSZRJH_o2"
      },
      "execution_count": 115,
      "outputs": []
    },
    {
      "cell_type": "code",
      "source": [
        "# merging all the data sets in to one df\n",
        "all_df = [df_1, df_2, df_3, df_4, df_5, df_6, df_7, df_8, df_9, df_10, df_11, df_12]\n",
        "new_df = pd.concat(all_df)\n",
        "df = new_df\n"
      ],
      "metadata": {
        "id": "NHHCNsQvJ5G0"
      },
      "execution_count": 116,
      "outputs": []
    },
    {
      "cell_type": "code",
      "source": [
        "# reading the merged file\n",
        "df.head()"
      ],
      "metadata": {
        "colab": {
          "base_uri": "https://localhost:8080/",
          "height": 443
        },
        "id": "w1-tPqsrLtoI",
        "outputId": "bbf5978d-fbbc-49db-92da-a409a6ece394"
      },
      "execution_count": 117,
      "outputs": [
        {
          "output_type": "execute_result",
          "data": {
            "text/plain": [
              "            ride_id rideable_type           started_at             ended_at  \\\n",
              "0  CFA86D4455AA1030  classic_bike  2021-03-16 08:32:30  2021-03-16 08:36:34   \n",
              "1  30D9DC61227D1AF3  classic_bike  2021-03-28 01:26:28  2021-03-28 01:36:55   \n",
              "2  846D87A15682A284  classic_bike  2021-03-11 21:17:29  2021-03-11 21:33:53   \n",
              "3  994D05AA75A168F2  classic_bike  2021-03-11 13:26:42  2021-03-11 13:55:41   \n",
              "4  DF7464FBE92D8308  classic_bike  2021-03-21 09:09:37  2021-03-21 09:27:33   \n",
              "\n",
              "             start_station_name start_station_id  \\\n",
              "0  Humboldt Blvd & Armitage Ave            15651   \n",
              "1  Humboldt Blvd & Armitage Ave            15651   \n",
              "2         Shields Ave & 28th Pl            15443   \n",
              "3   Winthrop Ave & Lawrence Ave     TA1308000021   \n",
              "4      Glenwood Ave & Touhy Ave              525   \n",
              "\n",
              "                      end_station_name end_station_id  start_lat  start_lng  \\\n",
              "0              Stave St & Armitage Ave          13266  41.917513 -87.701809   \n",
              "1  Central Park Ave & Bloomingdale Ave          18017  41.917513 -87.701809   \n",
              "2                 Halsted St & 35th St   TA1308000043  41.842733 -87.635491   \n",
              "3               Broadway & Sheridan Rd          13323  41.968812 -87.657659   \n",
              "4            Chicago Ave & Sheridan Rd           E008  42.012701 -87.666058   \n",
              "\n",
              "     end_lat    end_lng member_casual  \n",
              "0  41.917741 -87.691392        casual  \n",
              "1  41.914166 -87.716755        casual  \n",
              "2  41.830661 -87.647172        casual  \n",
              "3  41.952833 -87.649993        casual  \n",
              "4  42.050491 -87.677821        casual  "
            ],
            "text/html": [
              "\n",
              "  <div id=\"df-3ea573eb-952b-4da4-afbc-1ec7bd8657af\">\n",
              "    <div class=\"colab-df-container\">\n",
              "      <div>\n",
              "<style scoped>\n",
              "    .dataframe tbody tr th:only-of-type {\n",
              "        vertical-align: middle;\n",
              "    }\n",
              "\n",
              "    .dataframe tbody tr th {\n",
              "        vertical-align: top;\n",
              "    }\n",
              "\n",
              "    .dataframe thead th {\n",
              "        text-align: right;\n",
              "    }\n",
              "</style>\n",
              "<table border=\"1\" class=\"dataframe\">\n",
              "  <thead>\n",
              "    <tr style=\"text-align: right;\">\n",
              "      <th></th>\n",
              "      <th>ride_id</th>\n",
              "      <th>rideable_type</th>\n",
              "      <th>started_at</th>\n",
              "      <th>ended_at</th>\n",
              "      <th>start_station_name</th>\n",
              "      <th>start_station_id</th>\n",
              "      <th>end_station_name</th>\n",
              "      <th>end_station_id</th>\n",
              "      <th>start_lat</th>\n",
              "      <th>start_lng</th>\n",
              "      <th>end_lat</th>\n",
              "      <th>end_lng</th>\n",
              "      <th>member_casual</th>\n",
              "    </tr>\n",
              "  </thead>\n",
              "  <tbody>\n",
              "    <tr>\n",
              "      <th>0</th>\n",
              "      <td>CFA86D4455AA1030</td>\n",
              "      <td>classic_bike</td>\n",
              "      <td>2021-03-16 08:32:30</td>\n",
              "      <td>2021-03-16 08:36:34</td>\n",
              "      <td>Humboldt Blvd &amp; Armitage Ave</td>\n",
              "      <td>15651</td>\n",
              "      <td>Stave St &amp; Armitage Ave</td>\n",
              "      <td>13266</td>\n",
              "      <td>41.917513</td>\n",
              "      <td>-87.701809</td>\n",
              "      <td>41.917741</td>\n",
              "      <td>-87.691392</td>\n",
              "      <td>casual</td>\n",
              "    </tr>\n",
              "    <tr>\n",
              "      <th>1</th>\n",
              "      <td>30D9DC61227D1AF3</td>\n",
              "      <td>classic_bike</td>\n",
              "      <td>2021-03-28 01:26:28</td>\n",
              "      <td>2021-03-28 01:36:55</td>\n",
              "      <td>Humboldt Blvd &amp; Armitage Ave</td>\n",
              "      <td>15651</td>\n",
              "      <td>Central Park Ave &amp; Bloomingdale Ave</td>\n",
              "      <td>18017</td>\n",
              "      <td>41.917513</td>\n",
              "      <td>-87.701809</td>\n",
              "      <td>41.914166</td>\n",
              "      <td>-87.716755</td>\n",
              "      <td>casual</td>\n",
              "    </tr>\n",
              "    <tr>\n",
              "      <th>2</th>\n",
              "      <td>846D87A15682A284</td>\n",
              "      <td>classic_bike</td>\n",
              "      <td>2021-03-11 21:17:29</td>\n",
              "      <td>2021-03-11 21:33:53</td>\n",
              "      <td>Shields Ave &amp; 28th Pl</td>\n",
              "      <td>15443</td>\n",
              "      <td>Halsted St &amp; 35th St</td>\n",
              "      <td>TA1308000043</td>\n",
              "      <td>41.842733</td>\n",
              "      <td>-87.635491</td>\n",
              "      <td>41.830661</td>\n",
              "      <td>-87.647172</td>\n",
              "      <td>casual</td>\n",
              "    </tr>\n",
              "    <tr>\n",
              "      <th>3</th>\n",
              "      <td>994D05AA75A168F2</td>\n",
              "      <td>classic_bike</td>\n",
              "      <td>2021-03-11 13:26:42</td>\n",
              "      <td>2021-03-11 13:55:41</td>\n",
              "      <td>Winthrop Ave &amp; Lawrence Ave</td>\n",
              "      <td>TA1308000021</td>\n",
              "      <td>Broadway &amp; Sheridan Rd</td>\n",
              "      <td>13323</td>\n",
              "      <td>41.968812</td>\n",
              "      <td>-87.657659</td>\n",
              "      <td>41.952833</td>\n",
              "      <td>-87.649993</td>\n",
              "      <td>casual</td>\n",
              "    </tr>\n",
              "    <tr>\n",
              "      <th>4</th>\n",
              "      <td>DF7464FBE92D8308</td>\n",
              "      <td>classic_bike</td>\n",
              "      <td>2021-03-21 09:09:37</td>\n",
              "      <td>2021-03-21 09:27:33</td>\n",
              "      <td>Glenwood Ave &amp; Touhy Ave</td>\n",
              "      <td>525</td>\n",
              "      <td>Chicago Ave &amp; Sheridan Rd</td>\n",
              "      <td>E008</td>\n",
              "      <td>42.012701</td>\n",
              "      <td>-87.666058</td>\n",
              "      <td>42.050491</td>\n",
              "      <td>-87.677821</td>\n",
              "      <td>casual</td>\n",
              "    </tr>\n",
              "  </tbody>\n",
              "</table>\n",
              "</div>\n",
              "      <button class=\"colab-df-convert\" onclick=\"convertToInteractive('df-3ea573eb-952b-4da4-afbc-1ec7bd8657af')\"\n",
              "              title=\"Convert this dataframe to an interactive table.\"\n",
              "              style=\"display:none;\">\n",
              "        \n",
              "  <svg xmlns=\"http://www.w3.org/2000/svg\" height=\"24px\"viewBox=\"0 0 24 24\"\n",
              "       width=\"24px\">\n",
              "    <path d=\"M0 0h24v24H0V0z\" fill=\"none\"/>\n",
              "    <path d=\"M18.56 5.44l.94 2.06.94-2.06 2.06-.94-2.06-.94-.94-2.06-.94 2.06-2.06.94zm-11 1L8.5 8.5l.94-2.06 2.06-.94-2.06-.94L8.5 2.5l-.94 2.06-2.06.94zm10 10l.94 2.06.94-2.06 2.06-.94-2.06-.94-.94-2.06-.94 2.06-2.06.94z\"/><path d=\"M17.41 7.96l-1.37-1.37c-.4-.4-.92-.59-1.43-.59-.52 0-1.04.2-1.43.59L10.3 9.45l-7.72 7.72c-.78.78-.78 2.05 0 2.83L4 21.41c.39.39.9.59 1.41.59.51 0 1.02-.2 1.41-.59l7.78-7.78 2.81-2.81c.8-.78.8-2.07 0-2.86zM5.41 20L4 18.59l7.72-7.72 1.47 1.35L5.41 20z\"/>\n",
              "  </svg>\n",
              "      </button>\n",
              "      \n",
              "  <style>\n",
              "    .colab-df-container {\n",
              "      display:flex;\n",
              "      flex-wrap:wrap;\n",
              "      gap: 12px;\n",
              "    }\n",
              "\n",
              "    .colab-df-convert {\n",
              "      background-color: #E8F0FE;\n",
              "      border: none;\n",
              "      border-radius: 50%;\n",
              "      cursor: pointer;\n",
              "      display: none;\n",
              "      fill: #1967D2;\n",
              "      height: 32px;\n",
              "      padding: 0 0 0 0;\n",
              "      width: 32px;\n",
              "    }\n",
              "\n",
              "    .colab-df-convert:hover {\n",
              "      background-color: #E2EBFA;\n",
              "      box-shadow: 0px 1px 2px rgba(60, 64, 67, 0.3), 0px 1px 3px 1px rgba(60, 64, 67, 0.15);\n",
              "      fill: #174EA6;\n",
              "    }\n",
              "\n",
              "    [theme=dark] .colab-df-convert {\n",
              "      background-color: #3B4455;\n",
              "      fill: #D2E3FC;\n",
              "    }\n",
              "\n",
              "    [theme=dark] .colab-df-convert:hover {\n",
              "      background-color: #434B5C;\n",
              "      box-shadow: 0px 1px 3px 1px rgba(0, 0, 0, 0.15);\n",
              "      filter: drop-shadow(0px 1px 2px rgba(0, 0, 0, 0.3));\n",
              "      fill: #FFFFFF;\n",
              "    }\n",
              "  </style>\n",
              "\n",
              "      <script>\n",
              "        const buttonEl =\n",
              "          document.querySelector('#df-3ea573eb-952b-4da4-afbc-1ec7bd8657af button.colab-df-convert');\n",
              "        buttonEl.style.display =\n",
              "          google.colab.kernel.accessAllowed ? 'block' : 'none';\n",
              "\n",
              "        async function convertToInteractive(key) {\n",
              "          const element = document.querySelector('#df-3ea573eb-952b-4da4-afbc-1ec7bd8657af');\n",
              "          const dataTable =\n",
              "            await google.colab.kernel.invokeFunction('convertToInteractive',\n",
              "                                                     [key], {});\n",
              "          if (!dataTable) return;\n",
              "\n",
              "          const docLinkHtml = 'Like what you see? Visit the ' +\n",
              "            '<a target=\"_blank\" href=https://colab.research.google.com/notebooks/data_table.ipynb>data table notebook</a>'\n",
              "            + ' to learn more about interactive tables.';\n",
              "          element.innerHTML = '';\n",
              "          dataTable['output_type'] = 'display_data';\n",
              "          await google.colab.output.renderOutput(dataTable, element);\n",
              "          const docLink = document.createElement('div');\n",
              "          docLink.innerHTML = docLinkHtml;\n",
              "          element.appendChild(docLink);\n",
              "        }\n",
              "      </script>\n",
              "    </div>\n",
              "  </div>\n",
              "  "
            ]
          },
          "metadata": {},
          "execution_count": 117
        }
      ]
    },
    {
      "cell_type": "code",
      "source": [
        "# get information about the data set\n",
        "df.info()"
      ],
      "metadata": {
        "colab": {
          "base_uri": "https://localhost:8080/"
        },
        "id": "JzWxODcxL76F",
        "outputId": "59073d1e-52c9-478e-8bb1-e9fb2820a3a0"
      },
      "execution_count": 118,
      "outputs": [
        {
          "output_type": "stream",
          "name": "stdout",
          "text": [
            "<class 'pandas.core.frame.DataFrame'>\n",
            "Int64Index: 5667986 entries, 0 to 115608\n",
            "Data columns (total 13 columns):\n",
            " #   Column              Dtype  \n",
            "---  ------              -----  \n",
            " 0   ride_id             object \n",
            " 1   rideable_type       object \n",
            " 2   started_at          object \n",
            " 3   ended_at            object \n",
            " 4   start_station_name  object \n",
            " 5   start_station_id    object \n",
            " 6   end_station_name    object \n",
            " 7   end_station_id      object \n",
            " 8   start_lat           float64\n",
            " 9   start_lng           float64\n",
            " 10  end_lat             float64\n",
            " 11  end_lng             float64\n",
            " 12  member_casual       object \n",
            "dtypes: float64(4), object(9)\n",
            "memory usage: 605.4+ MB\n"
          ]
        }
      ]
    },
    {
      "cell_type": "code",
      "source": [
        "# to convert object data type of start time and end time columns into date time datatype\n",
        "df['start_time'] = pd.to_datetime(df['started_at'])\n",
        "df['end_time'] = pd.to_datetime(df['ended_at'])\n",
        "\n"
      ],
      "metadata": {
        "id": "V6f277KLMWtS"
      },
      "execution_count": 119,
      "outputs": []
    },
    {
      "cell_type": "code",
      "source": [
        "# adding new column ride length(ended at - started at)  to calculate the time travelled\n",
        "df['ride_length'] = df['end_time'] - df['start_time']\n",
        "df['ride_length']"
      ],
      "metadata": {
        "colab": {
          "base_uri": "https://localhost:8080/"
        },
        "id": "6aCrGhXBHKCZ",
        "outputId": "8e8ea826-278d-4f69-cc3b-a4b5cc135048"
      },
      "execution_count": 120,
      "outputs": [
        {
          "output_type": "execute_result",
          "data": {
            "text/plain": [
              "0        0 days 00:04:04\n",
              "1        0 days 00:10:27\n",
              "2        0 days 00:16:24\n",
              "3        0 days 00:28:59\n",
              "4        0 days 00:17:56\n",
              "               ...      \n",
              "115604   0 days 00:14:40\n",
              "115605   0 days 00:07:05\n",
              "115606   0 days 00:11:38\n",
              "115607   0 days 00:02:37\n",
              "115608   0 days 00:07:33\n",
              "Name: ride_length, Length: 5667986, dtype: timedelta64[ns]"
            ]
          },
          "metadata": {},
          "execution_count": 120
        }
      ]
    },
    {
      "cell_type": "code",
      "source": [
        "# to get the updated information about the dataset \n",
        "df.info()"
      ],
      "metadata": {
        "colab": {
          "base_uri": "https://localhost:8080/"
        },
        "id": "z6qH8C9uPjAb",
        "outputId": "abd3e04c-c0e7-4bb3-b9ea-820745c73c9c"
      },
      "execution_count": 121,
      "outputs": [
        {
          "output_type": "stream",
          "name": "stdout",
          "text": [
            "<class 'pandas.core.frame.DataFrame'>\n",
            "Int64Index: 5667986 entries, 0 to 115608\n",
            "Data columns (total 16 columns):\n",
            " #   Column              Dtype          \n",
            "---  ------              -----          \n",
            " 0   ride_id             object         \n",
            " 1   rideable_type       object         \n",
            " 2   started_at          object         \n",
            " 3   ended_at            object         \n",
            " 4   start_station_name  object         \n",
            " 5   start_station_id    object         \n",
            " 6   end_station_name    object         \n",
            " 7   end_station_id      object         \n",
            " 8   start_lat           float64        \n",
            " 9   start_lng           float64        \n",
            " 10  end_lat             float64        \n",
            " 11  end_lng             float64        \n",
            " 12  member_casual       object         \n",
            " 13  start_time          datetime64[ns] \n",
            " 14  end_time            datetime64[ns] \n",
            " 15  ride_length         timedelta64[ns]\n",
            "dtypes: datetime64[ns](2), float64(4), object(9), timedelta64[ns](1)\n",
            "memory usage: 735.1+ MB\n"
          ]
        }
      ]
    },
    {
      "cell_type": "code",
      "source": [
        "# spliting and extracting the data from 'started_at' column\n",
        "df['start_date_1'] = [i.split(\"  \") [0] for i in df['started_at']]"
      ],
      "metadata": {
        "id": "zno7o3EvSMAo"
      },
      "execution_count": 122,
      "outputs": []
    },
    {
      "cell_type": "code",
      "source": [
        "# converting start date_1 into datatime data types\n",
        "df['start_date_1'] = pd.to_datetime(df['start_date_1'])"
      ],
      "metadata": {
        "id": "5G_UYbRyLE6f"
      },
      "execution_count": 123,
      "outputs": []
    },
    {
      "cell_type": "code",
      "source": [
        "# finding the weekday\n",
        "df['weekday'] = df['start_date_1'].apply(lambda x: x.weekday())\n",
        "df['weekday'].unique()"
      ],
      "metadata": {
        "colab": {
          "base_uri": "https://localhost:8080/"
        },
        "id": "npS59OAtMLo_",
        "outputId": "09cfcf90-854d-4d5c-d7d2-d246f91269d9"
      },
      "execution_count": 124,
      "outputs": [
        {
          "output_type": "execute_result",
          "data": {
            "text/plain": [
              "array([1, 6, 3, 5, 2, 0, 4])"
            ]
          },
          "metadata": {},
          "execution_count": 124
        }
      ]
    },
    {
      "cell_type": "code",
      "source": [
        "# converting weekday data in to weekday \n",
        "dict = {0:'Sunday', 1:'Monday', 2:'Tuesday', 3:'Wednesday', 4:'Thursday', 5:'Friday', 6:'Saturday'}\n",
        "df['weekday'] = df['weekday'].apply(lambda y: dict[y])\n",
        "df['weekday']"
      ],
      "metadata": {
        "colab": {
          "base_uri": "https://localhost:8080/"
        },
        "id": "cza0f6zXPXyI",
        "outputId": "2b756b1a-85a5-45c0-86f6-196b7a5510f3"
      },
      "execution_count": 125,
      "outputs": [
        {
          "output_type": "execute_result",
          "data": {
            "text/plain": [
              "0            Monday\n",
              "1          Saturday\n",
              "2         Wednesday\n",
              "3         Wednesday\n",
              "4          Saturday\n",
              "            ...    \n",
              "115604      Tuesday\n",
              "115605     Thursday\n",
              "115606       Sunday\n",
              "115607    Wednesday\n",
              "115608       Sunday\n",
              "Name: weekday, Length: 5667986, dtype: object"
            ]
          },
          "metadata": {},
          "execution_count": 125
        }
      ]
    },
    {
      "cell_type": "code",
      "source": [
        "# sorting the dataframe by start date in ascending order\n",
        "df.sort_values(by=['started_at'], inplace=True, ascending=True)"
      ],
      "metadata": {
        "id": "7T_atM1hQj4y"
      },
      "execution_count": 126,
      "outputs": []
    },
    {
      "cell_type": "code",
      "source": [
        "# checking the null values\n",
        "df.isnull().sum()"
      ],
      "metadata": {
        "colab": {
          "base_uri": "https://localhost:8080/"
        },
        "id": "ZzWb9rAKRaR6",
        "outputId": "6124574b-5c28-4831-99cf-1d8e9ef25c9c"
      },
      "execution_count": 127,
      "outputs": [
        {
          "output_type": "execute_result",
          "data": {
            "text/plain": [
              "ride_id                    0\n",
              "rideable_type              0\n",
              "started_at                 0\n",
              "ended_at                   0\n",
              "start_station_name    712978\n",
              "start_station_id      712975\n",
              "end_station_name      761817\n",
              "end_station_id        761817\n",
              "start_lat                  0\n",
              "start_lng                  0\n",
              "end_lat                 4617\n",
              "end_lng                 4617\n",
              "member_casual              0\n",
              "start_time                 0\n",
              "end_time                   0\n",
              "ride_length                0\n",
              "start_date_1               0\n",
              "weekday                    0\n",
              "dtype: int64"
            ]
          },
          "metadata": {},
          "execution_count": 127
        }
      ]
    },
    {
      "cell_type": "code",
      "source": [
        "# droping the null values from all the rows\n",
        "df = df.dropna()\n"
      ],
      "metadata": {
        "id": "6SESezrfSu8l"
      },
      "execution_count": 128,
      "outputs": []
    },
    {
      "cell_type": "code",
      "source": [
        "df.isnull().sum()"
      ],
      "metadata": {
        "colab": {
          "base_uri": "https://localhost:8080/"
        },
        "id": "NK5WuEZGTkyc",
        "outputId": "5d109653-65cb-4ffb-c9ba-364547743338"
      },
      "execution_count": 129,
      "outputs": [
        {
          "output_type": "execute_result",
          "data": {
            "text/plain": [
              "ride_id               0\n",
              "rideable_type         0\n",
              "started_at            0\n",
              "ended_at              0\n",
              "start_station_name    0\n",
              "start_station_id      0\n",
              "end_station_name      0\n",
              "end_station_id        0\n",
              "start_lat             0\n",
              "start_lng             0\n",
              "end_lat               0\n",
              "end_lng               0\n",
              "member_casual         0\n",
              "start_time            0\n",
              "end_time              0\n",
              "ride_length           0\n",
              "start_date_1          0\n",
              "weekday               0\n",
              "dtype: int64"
            ]
          },
          "metadata": {},
          "execution_count": 129
        }
      ]
    },
    {
      "cell_type": "code",
      "source": [
        "# calculating the euclidean distance from start and end point\n",
        "df['x'] = (df['end_lat'] - df['start_lat'])**2\n",
        "df['y'] = (df['end_lng'] - df['start_lng'])**2\n",
        "df['distance'] = (df['x']+df['y'])**1/2\n",
        "df['distance']"
      ],
      "metadata": {
        "id": "ccLcyBiOTogw",
        "colab": {
          "base_uri": "https://localhost:8080/"
        },
        "outputId": "c26db7ac-fc05-440f-f968-99cdbad19548"
      },
      "execution_count": 130,
      "outputs": [
        {
          "output_type": "stream",
          "name": "stderr",
          "text": [
            "/usr/local/lib/python3.7/dist-packages/ipykernel_launcher.py:2: SettingWithCopyWarning: \n",
            "A value is trying to be set on a copy of a slice from a DataFrame.\n",
            "Try using .loc[row_indexer,col_indexer] = value instead\n",
            "\n",
            "See the caveats in the documentation: https://pandas.pydata.org/pandas-docs/stable/user_guide/indexing.html#returning-a-view-versus-a-copy\n",
            "  \n",
            "/usr/local/lib/python3.7/dist-packages/ipykernel_launcher.py:3: SettingWithCopyWarning: \n",
            "A value is trying to be set on a copy of a slice from a DataFrame.\n",
            "Try using .loc[row_indexer,col_indexer] = value instead\n",
            "\n",
            "See the caveats in the documentation: https://pandas.pydata.org/pandas-docs/stable/user_guide/indexing.html#returning-a-view-versus-a-copy\n",
            "  This is separate from the ipykernel package so we can avoid doing imports until\n",
            "/usr/local/lib/python3.7/dist-packages/ipykernel_launcher.py:4: SettingWithCopyWarning: \n",
            "A value is trying to be set on a copy of a slice from a DataFrame.\n",
            "Try using .loc[row_indexer,col_indexer] = value instead\n",
            "\n",
            "See the caveats in the documentation: https://pandas.pydata.org/pandas-docs/stable/user_guide/indexing.html#returning-a-view-versus-a-copy\n",
            "  after removing the cwd from sys.path.\n"
          ]
        },
        {
          "output_type": "execute_result",
          "data": {
            "text/plain": [
              "228108    3.258017e-04\n",
              "82906     7.161250e-10\n",
              "44229     7.098223e-04\n",
              "179920    8.748399e-05\n",
              "66333     4.441754e-03\n",
              "              ...     \n",
              "92964     1.022374e-04\n",
              "58427     4.102760e-05\n",
              "3425      4.890912e-05\n",
              "36602     2.142146e-04\n",
              "43154     1.850191e-03\n",
              "Name: distance, Length: 4631103, dtype: float64"
            ]
          },
          "metadata": {},
          "execution_count": 130
        }
      ]
    },
    {
      "cell_type": "code",
      "source": [
        "# to extract year and month from start date column\n",
        "df['year'] = pd.DatetimeIndex(df['start_date_1']).year\n",
        "df['month'] =pd.DatetimeIndex(df['start_date_1']).month"
      ],
      "metadata": {
        "colab": {
          "base_uri": "https://localhost:8080/"
        },
        "id": "KEeofw7H5vn7",
        "outputId": "7dac08c9-d7dc-4591-c921-d8758aa20e20"
      },
      "execution_count": 131,
      "outputs": [
        {
          "output_type": "stream",
          "name": "stderr",
          "text": [
            "/usr/local/lib/python3.7/dist-packages/ipykernel_launcher.py:2: SettingWithCopyWarning: \n",
            "A value is trying to be set on a copy of a slice from a DataFrame.\n",
            "Try using .loc[row_indexer,col_indexer] = value instead\n",
            "\n",
            "See the caveats in the documentation: https://pandas.pydata.org/pandas-docs/stable/user_guide/indexing.html#returning-a-view-versus-a-copy\n",
            "  \n",
            "/usr/local/lib/python3.7/dist-packages/ipykernel_launcher.py:3: SettingWithCopyWarning: \n",
            "A value is trying to be set on a copy of a slice from a DataFrame.\n",
            "Try using .loc[row_indexer,col_indexer] = value instead\n",
            "\n",
            "See the caveats in the documentation: https://pandas.pydata.org/pandas-docs/stable/user_guide/indexing.html#returning-a-view-versus-a-copy\n",
            "  This is separate from the ipykernel package so we can avoid doing imports until\n"
          ]
        }
      ]
    },
    {
      "cell_type": "code",
      "source": [
        "# to convert object data type to timedelta\n",
        "df['ride_len'] = pd.to_timedelta(df['ride_length'])"
      ],
      "metadata": {
        "colab": {
          "base_uri": "https://localhost:8080/"
        },
        "id": "DesXK2z96v4_",
        "outputId": "1b49328e-5e5a-4caa-bade-fbc57783f956"
      },
      "execution_count": 132,
      "outputs": [
        {
          "output_type": "stream",
          "name": "stderr",
          "text": [
            "/usr/local/lib/python3.7/dist-packages/ipykernel_launcher.py:2: SettingWithCopyWarning: \n",
            "A value is trying to be set on a copy of a slice from a DataFrame.\n",
            "Try using .loc[row_indexer,col_indexer] = value instead\n",
            "\n",
            "See the caveats in the documentation: https://pandas.pydata.org/pandas-docs/stable/user_guide/indexing.html#returning-a-view-versus-a-copy\n",
            "  \n"
          ]
        }
      ]
    },
    {
      "cell_type": "code",
      "source": [
        "# checking duplicates value in data frame\n",
        "df.duplicated().any()"
      ],
      "metadata": {
        "colab": {
          "base_uri": "https://localhost:8080/"
        },
        "id": "jW5-5vWr76oq",
        "outputId": "42ed3d91-4a2a-465b-a051-8fac882a7a6a"
      },
      "execution_count": 133,
      "outputs": [
        {
          "output_type": "execute_result",
          "data": {
            "text/plain": [
              "False"
            ]
          },
          "metadata": {},
          "execution_count": 133
        }
      ]
    },
    {
      "cell_type": "code",
      "source": [
        "# calculating mean of ride_length of all type of user\n",
        "df['ride_len'].mean()"
      ],
      "metadata": {
        "colab": {
          "base_uri": "https://localhost:8080/"
        },
        "id": "ieFYmvIL8VhS",
        "outputId": "12c68122-3057-438b-e7aa-5c20cf25a3cc"
      },
      "execution_count": 134,
      "outputs": [
        {
          "output_type": "execute_result",
          "data": {
            "text/plain": [
              "Timedelta('0 days 00:21:37.485625994')"
            ]
          },
          "metadata": {},
          "execution_count": 134
        }
      ]
    },
    {
      "cell_type": "code",
      "source": [
        "# calculating max ride length of all types of users\n",
        "df['ride_len'].max()"
      ],
      "metadata": {
        "colab": {
          "base_uri": "https://localhost:8080/"
        },
        "id": "A4LSkXbw836S",
        "outputId": "d3dfd2ad-ab74-48a8-df4c-3108040be41a"
      },
      "execution_count": 135,
      "outputs": [
        {
          "output_type": "execute_result",
          "data": {
            "text/plain": [
              "Timedelta('38 days 20:24:09')"
            ]
          },
          "metadata": {},
          "execution_count": 135
        }
      ]
    },
    {
      "cell_type": "code",
      "source": [
        "# calculating mean ride length for member\n",
        "mean_ride_length_member = df[df['member_casual'] == 'member']\n",
        "mean_ride_length_member = mean_ride_length_member['ride_len'].mean()\n",
        "mean_ride_length_member "
      ],
      "metadata": {
        "colab": {
          "base_uri": "https://localhost:8080/"
        },
        "id": "CR4N_zLM9Tnf",
        "outputId": "501ac231-3ed9-414a-b8c6-96db369050f8"
      },
      "execution_count": 136,
      "outputs": [
        {
          "output_type": "execute_result",
          "data": {
            "text/plain": [
              "Timedelta('0 days 00:13:02.600083466')"
            ]
          },
          "metadata": {},
          "execution_count": 136
        }
      ]
    },
    {
      "cell_type": "code",
      "source": [
        "# calculating mean ride length for casual riders\n",
        "mean_ride_length_casual = df[df['member_casual'] == 'casual']\n",
        "mean_ride_length_casual = mean_ride_length_casual['ride_len'].mean()\n",
        "mean_ride_length_casual\n"
      ],
      "metadata": {
        "colab": {
          "base_uri": "https://localhost:8080/"
        },
        "id": "8kJaj4-7HxBT",
        "outputId": "af5d4244-3cb8-491d-e601-1993e104ad3b"
      },
      "execution_count": 137,
      "outputs": [
        {
          "output_type": "execute_result",
          "data": {
            "text/plain": [
              "Timedelta('0 days 00:32:24.164259983')"
            ]
          },
          "metadata": {},
          "execution_count": 137
        }
      ]
    },
    {
      "cell_type": "code",
      "source": [
        "# calculating max ride length for member\n",
        "max_ride_length_member = df[df['member_casual'] == 'member']\n",
        "max_ride_length_member = max_ride_length_member['ride_len'].max()\n",
        "max_ride_length_member"
      ],
      "metadata": {
        "colab": {
          "base_uri": "https://localhost:8080/"
        },
        "id": "RF0yW4BFKiJT",
        "outputId": "e1d17f77-e91b-49a4-e9c3-b6f5879c4a12"
      },
      "execution_count": 138,
      "outputs": [
        {
          "output_type": "execute_result",
          "data": {
            "text/plain": [
              "Timedelta('1 days 00:55:38')"
            ]
          },
          "metadata": {},
          "execution_count": 138
        }
      ]
    },
    {
      "cell_type": "code",
      "source": [
        "# calculating max ride length for casual rider \n",
        "max_ride_length_casual = df[df['member_casual'] == 'casual']\n",
        "max_ride_length_casual = max_ride_length_casual['ride_len'].max()\n",
        "max_ride_length_casual"
      ],
      "metadata": {
        "colab": {
          "base_uri": "https://localhost:8080/"
        },
        "id": "sGSCmqdmLZhP",
        "outputId": "25e64858-7434-4570-c676-135652a1daf4"
      },
      "execution_count": 139,
      "outputs": [
        {
          "output_type": "execute_result",
          "data": {
            "text/plain": [
              "Timedelta('38 days 20:24:09')"
            ]
          },
          "metadata": {},
          "execution_count": 139
        }
      ]
    },
    {
      "cell_type": "code",
      "source": [
        "# calculating mode of weekday\n",
        "df['weekday'].mode()"
      ],
      "metadata": {
        "colab": {
          "base_uri": "https://localhost:8080/"
        },
        "id": "b24R8R9EMd5L",
        "outputId": "314f4f3d-5ad6-4a9b-e6b5-b9c73107ec6c"
      },
      "execution_count": 140,
      "outputs": [
        {
          "output_type": "execute_result",
          "data": {
            "text/plain": [
              "0    Friday\n",
              "dtype: object"
            ]
          },
          "metadata": {},
          "execution_count": 140
        }
      ]
    },
    {
      "cell_type": "code",
      "source": [
        "# calculating mode of weekday for member\n",
        "mode_weekday_member =  df[df['member_casual'] == 'member']\n",
        "mode_weekday_member = mode_weekday_member['weekday'].mode()\n",
        "mode_weekday_member"
      ],
      "metadata": {
        "colab": {
          "base_uri": "https://localhost:8080/"
        },
        "id": "CF1-OTuLN1G9",
        "outputId": "d4464f81-7a88-48b1-ba50-29d9201703e9"
      },
      "execution_count": 141,
      "outputs": [
        {
          "output_type": "execute_result",
          "data": {
            "text/plain": [
              "0    Tuesday\n",
              "dtype: object"
            ]
          },
          "metadata": {},
          "execution_count": 141
        }
      ]
    },
    {
      "cell_type": "code",
      "source": [
        "# calculating mode of weekday for casual member\n",
        "mode_weekday_member =  df[df['member_casual'] == 'casual']\n",
        "mode_weekday_member = mode_weekday_member['weekday'].mode()\n",
        "mode_weekday_member"
      ],
      "metadata": {
        "colab": {
          "base_uri": "https://localhost:8080/"
        },
        "id": "3mwvPLWvRrcG",
        "outputId": "09c030f5-10cc-407b-fa81-c5c590ea81ca"
      },
      "execution_count": 142,
      "outputs": [
        {
          "output_type": "execute_result",
          "data": {
            "text/plain": [
              "0    Friday\n",
              "dtype: object"
            ]
          },
          "metadata": {},
          "execution_count": 142
        }
      ]
    },
    {
      "cell_type": "code",
      "source": [
        "# calculate the number of rides for users by weekday by adding count of ride_id to values\n",
        "dict = {'Sunday': 0, 'Monday': 1, 'Tuesday':2, 'Wednesday':3, 'Thursday':4, 'Friday':5, 'Saturday':6}\n",
        "df['weekday'] = df['weekday'].apply(lambda y: dict[y])\n",
        "count_user_weekday = df.groupby('weekday')['ride_id'].count()\n",
        "count_user_weekday = count_user_weekday.sort_index()\n",
        "count_user_weekday\n"
      ],
      "metadata": {
        "id": "3aHYSu00R1kU",
        "colab": {
          "base_uri": "https://localhost:8080/"
        },
        "outputId": "a97a7468-2019-46e4-88b6-42532c930943"
      },
      "execution_count": 143,
      "outputs": [
        {
          "output_type": "stream",
          "name": "stderr",
          "text": [
            "/usr/local/lib/python3.7/dist-packages/ipykernel_launcher.py:3: SettingWithCopyWarning: \n",
            "A value is trying to be set on a copy of a slice from a DataFrame.\n",
            "Try using .loc[row_indexer,col_indexer] = value instead\n",
            "\n",
            "See the caveats in the documentation: https://pandas.pydata.org/pandas-docs/stable/user_guide/indexing.html#returning-a-view-versus-a-copy\n",
            "  This is separate from the ipykernel package so we can avoid doing imports until\n"
          ]
        },
        {
          "output_type": "execute_result",
          "data": {
            "text/plain": [
              "weekday\n",
              "0    590034\n",
              "1    613854\n",
              "2    622959\n",
              "3    602766\n",
              "4    657547\n",
              "5    823117\n",
              "6    720826\n",
              "Name: ride_id, dtype: int64"
            ]
          },
          "metadata": {},
          "execution_count": 143
        }
      ]
    },
    {
      "cell_type": "code",
      "source": [
        "# calculating number of rides for member by week_day by adding count of ride_id to values\n",
        "count_member_weekday = df[df['member_casual'] == 'member'].groupby('weekday')['ride_id'].count()\n",
        "count_member_weekday"
      ],
      "metadata": {
        "colab": {
          "base_uri": "https://localhost:8080/"
        },
        "id": "c5qaC-QLVpbn",
        "outputId": "cfd5c5f0-3832-4395-d8b3-c116b568e2e3"
      },
      "execution_count": 144,
      "outputs": [
        {
          "output_type": "execute_result",
          "data": {
            "text/plain": [
              "weekday\n",
              "0    358450\n",
              "1    397754\n",
              "2    404032\n",
              "3    378281\n",
              "4    367415\n",
              "5    356617\n",
              "6    315729\n",
              "Name: ride_id, dtype: int64"
            ]
          },
          "metadata": {},
          "execution_count": 144
        }
      ]
    },
    {
      "cell_type": "code",
      "source": [
        "# calculating number of rides for casual by week_day by adding count of ride_id to values\n",
        "count_casual_weekday = df[df['member_casual'] == 'casual'].groupby('weekday')['ride_id'].count()\n",
        "count_casual_weekday"
      ],
      "metadata": {
        "colab": {
          "base_uri": "https://localhost:8080/"
        },
        "id": "KKiiIuXaWr5v",
        "outputId": "ff066395-027b-42f2-ae21-73d38f467f45"
      },
      "execution_count": 145,
      "outputs": [
        {
          "output_type": "execute_result",
          "data": {
            "text/plain": [
              "weekday\n",
              "0    231584\n",
              "1    216100\n",
              "2    218927\n",
              "3    224485\n",
              "4    290132\n",
              "5    466500\n",
              "6    405097\n",
              "Name: ride_id, dtype: int64"
            ]
          },
          "metadata": {},
          "execution_count": 145
        }
      ]
    },
    {
      "cell_type": "code",
      "source": [
        "# ploting graph of weekday vs number of rides\n",
        "plt.figure(figsize=(8,6))\n",
        "plt.plot(count_user_weekday.index, count_user_weekday.values)\n",
        "plt.plot(count_member_weekday.index, count_member_weekday.values)\n",
        "plt.plot(count_casual_weekday.index, count_casual_weekday.values)\n",
        "plt.title(\"Calculate the number of rides for different users by weekday by adding count of ride_id to values\")\n",
        "plt.legend([\"user\", \"member\",  \"casual\"])\n",
        "labels = [\"Sunday\",\"Monday\",\"Tuesday\",\"Wednesday\",\"Thursday\",\"Friday\",\"Saturday\"]\n",
        "plt.xticks(count_casual_weekday.index,labels)\n",
        "plt.show()"
      ],
      "metadata": {
        "colab": {
          "base_uri": "https://localhost:8080/",
          "height": 390
        },
        "id": "cFnPJsM2W8l2",
        "outputId": "c3bbe20f-8ed6-49c9-91bd-bc06444969b1"
      },
      "execution_count": 146,
      "outputs": [
        {
          "output_type": "display_data",
          "data": {
            "text/plain": [
              "<Figure size 576x432 with 1 Axes>"
            ],
            "image/png": "[encoded data removed]"
          },
          "metadata": {
            "needs_background": "light"
          }
        }
      ]
    },
    {
      "cell_type": "code",
      "source": [
        "# calculating the average ride length for users by weekday\n",
        "user_avg_ride_len_weekday = df.groupby('weekday')['ride_len'].mean(numeric_only=False)\n",
        "user_avg_ride_len_weekday "
      ],
      "metadata": {
        "colab": {
          "base_uri": "https://localhost:8080/"
        },
        "id": "OPMcAcTVXstU",
        "outputId": "2c5e57b0-d032-43cc-a0d4-f2e7c393e7bf"
      },
      "execution_count": 147,
      "outputs": [
        {
          "output_type": "execute_result",
          "data": {
            "text/plain": [
              "weekday\n",
              "0   0 days 00:20:25.451962090\n",
              "1   0 days 00:18:01.278478270\n",
              "2   0 days 00:17:54.771063585\n",
              "3   0 days 00:18:09.672819966\n",
              "4   0 days 00:20:39.224335294\n",
              "5   0 days 00:25:58.802855487\n",
              "6   0 days 00:27:41.569817126\n",
              "Name: ride_len, dtype: timedelta64[ns]"
            ]
          },
          "metadata": {},
          "execution_count": 147
        }
      ]
    },
    {
      "cell_type": "code",
      "source": [
        "# calculating the average ride_length for member by weekday\n",
        "member_avg_ride_len_weekday = df[df['member_casual'] == 'member'].groupby('weekday')['ride_len'].mean(numeric_only=False)\n",
        "member_avg_ride_len_weekday"
      ],
      "metadata": {
        "colab": {
          "base_uri": "https://localhost:8080/"
        },
        "id": "In8bk40ghe4M",
        "outputId": "59b6706e-140c-43a8-bcd8-488dd7b1898b"
      },
      "execution_count": 148,
      "outputs": [
        {
          "output_type": "execute_result",
          "data": {
            "text/plain": [
              "weekday\n",
              "0   0 days 00:12:35.091714325\n",
              "1   0 days 00:12:14.303084318\n",
              "2   0 days 00:12:18.760924877\n",
              "3   0 days 00:12:14.247324079\n",
              "4   0 days 00:12:42.324137555\n",
              "5   0 days 00:14:39.685146810\n",
              "6   0 days 00:15:02.644663619\n",
              "Name: ride_len, dtype: timedelta64[ns]"
            ]
          },
          "metadata": {},
          "execution_count": 148
        }
      ]
    },
    {
      "cell_type": "code",
      "source": [
        "# calculating the average ride_length for casual by weekday\n",
        "casual_avg_ride_len_weekday = df[df['member_casual'] == 'casual'].groupby('weekday')['ride_len'].mean(numeric_only=False)\n",
        "casual_avg_ride_len_weekday"
      ],
      "metadata": {
        "colab": {
          "base_uri": "https://localhost:8080/"
        },
        "id": "ueyBdfAOit6i",
        "outputId": "92379463-3bd4-40f5-c61e-309eb62866b4"
      },
      "execution_count": 149,
      "outputs": [
        {
          "output_type": "execute_result",
          "data": {
            "text/plain": [
              "weekday\n",
              "0   0 days 00:32:33.484256252\n",
              "1   0 days 00:28:39.921934289\n",
              "2   0 days 00:28:14.881184139\n",
              "3   0 days 00:28:08.602423324\n",
              "4   0 days 00:30:43.157324941\n",
              "5   0 days 00:34:37.955952840\n",
              "6   0 days 00:37:33.069334011\n",
              "Name: ride_len, dtype: timedelta64[ns]"
            ]
          },
          "metadata": {},
          "execution_count": 149
        }
      ]
    },
    {
      "cell_type": "code",
      "source": [
        "# plotting graph of weekday vs average ride length\n",
        "plt.plot(user_avg_ride_len_weekday/pd.Timedelta(minutes=1))\n",
        "plt.plot(member_avg_ride_len_weekday/pd.Timedelta(minutes=1))\n",
        "plt.plot(casual_avg_ride_len_weekday/pd.Timedelta(minutes=1))\n",
        "plt.title(\"The avg ride length for different users by weekday\")\n",
        "plt.legend(['user','member','casual'])\n",
        "labels = ['Sunday','Monday','Tuesday','Wednesday','Thursday','Friday','Saturday']\n",
        "plt.xticks(user_avg_ride_len_weekday.index, labels)\n",
        "plt.show()\n",
        "\n"
      ],
      "metadata": {
        "colab": {
          "base_uri": "https://localhost:8080/",
          "height": 281
        },
        "id": "4iKZPeHCjAk3",
        "outputId": "3159371f-3e31-4522-a64b-6e3c705c3782"
      },
      "execution_count": 150,
      "outputs": [
        {
          "output_type": "display_data",
          "data": {
            "text/plain": [
              "<Figure size 432x288 with 1 Axes>"
            ],
            "image/png": "[encoded data removed]"
          },
          "metadata": {
            "needs_background": "light"
          }
        }
      ]
    },
    {
      "cell_type": "code",
      "source": [
        "# extracting important features of the dataframe in to new dataframe\n",
        "new_df = df[['ride_id','rideable_type','ride_len','weekday','distance','year','month','member_casual']]"
      ],
      "metadata": {
        "id": "pHzu8ESatse4"
      },
      "execution_count": 151,
      "outputs": []
    },
    {
      "cell_type": "code",
      "source": [
        "new_df.info()"
      ],
      "metadata": {
        "colab": {
          "base_uri": "https://localhost:8080/"
        },
        "id": "h4lLcv2QuwAH",
        "outputId": "9918cbc8-e9c7-42d8-e4c0-81ca10a80c14"
      },
      "execution_count": 152,
      "outputs": [
        {
          "output_type": "stream",
          "name": "stdout",
          "text": [
            "<class 'pandas.core.frame.DataFrame'>\n",
            "Int64Index: 4631103 entries, 228108 to 43154\n",
            "Data columns (total 8 columns):\n",
            " #   Column         Dtype          \n",
            "---  ------         -----          \n",
            " 0   ride_id        object         \n",
            " 1   rideable_type  object         \n",
            " 2   ride_len       timedelta64[ns]\n",
            " 3   weekday        int64          \n",
            " 4   distance       float64        \n",
            " 5   year           int64          \n",
            " 6   month          int64          \n",
            " 7   member_casual  object         \n",
            "dtypes: float64(1), int64(3), object(3), timedelta64[ns](1)\n",
            "memory usage: 318.0+ MB\n"
          ]
        }
      ]
    },
    {
      "cell_type": "code",
      "source": [
        "# to check the number of users each type over past 12 months\n",
        "member_type = new_df['member_casual'].value_counts()\n",
        "member_type"
      ],
      "metadata": {
        "colab": {
          "base_uri": "https://localhost:8080/"
        },
        "id": "wIYGpbatuxpw",
        "outputId": "93c2e47f-123a-42cf-887b-548fe5202898"
      },
      "execution_count": 153,
      "outputs": [
        {
          "output_type": "execute_result",
          "data": {
            "text/plain": [
              "member    2578278\n",
              "casual    2052825\n",
              "Name: member_casual, dtype: int64"
            ]
          },
          "metadata": {},
          "execution_count": 153
        }
      ]
    },
    {
      "cell_type": "code",
      "source": [
        "# plotting the count plot of users in each type\n",
        "plt.title(\"count of users in each type\")\n",
        "plt.bar(member_type.index, member_type.values)\n",
        "plt.show()"
      ],
      "metadata": {
        "id": "SHLBHc3g5XKq",
        "colab": {
          "base_uri": "https://localhost:8080/",
          "height": 281
        },
        "outputId": "eb3b2049-a82b-40b6-fd72-720b2b366c35"
      },
      "execution_count": 154,
      "outputs": [
        {
          "output_type": "display_data",
          "data": {
            "text/plain": [
              "<Figure size 432x288 with 1 Axes>"
            ],
            "image/png": "[encoded data removed]"
          },
          "metadata": {
            "needs_background": "light"
          }
        }
      ]
    },
    {
      "cell_type": "code",
      "source": [
        "# plotting the pie chart of users in each type\n",
        "plt.figure(figsize=(8,6))\n",
        "plt.pie(member_type.values, labels = member_type.index, autopct='%1.1f%%')\n",
        "plt.title(\"Percentage of users in each type\")\n",
        "plt.legend(member_type.index)\n",
        "plt.show()"
      ],
      "metadata": {
        "colab": {
          "base_uri": "https://localhost:8080/",
          "height": 373
        },
        "id": "99RD0pytRCAb",
        "outputId": "2aed3dfc-4fda-4d79-d2e3-7288abcb7fdd"
      },
      "execution_count": 155,
      "outputs": [
        {
          "output_type": "display_data",
          "data": {
            "text/plain": [
              "<Figure size 576x432 with 1 Axes>"
            ],
            "image/png": "[encoded data removed]"
          },
          "metadata": {}
        }
      ]
    },
    {
      "cell_type": "code",
      "source": [
        "# checking the number of users over years\n",
        "user_over_year = new_df.groupby('year')['member_casual'].value_counts()\n",
        "user_over_year"
      ],
      "metadata": {
        "colab": {
          "base_uri": "https://localhost:8080/"
        },
        "id": "zpTglraVSmaa",
        "outputId": "6ab2c217-464c-4736-cfd0-42e7d80a2463"
      },
      "execution_count": 156,
      "outputs": [
        {
          "output_type": "execute_result",
          "data": {
            "text/plain": [
              "year  member_casual\n",
              "2021  member           2436721\n",
              "      casual           2025076\n",
              "2022  member            141557\n",
              "      casual             27749\n",
              "Name: member_casual, dtype: int64"
            ]
          },
          "metadata": {},
          "execution_count": 156
        }
      ]
    },
    {
      "cell_type": "code",
      "source": [
        "# to segregate the number of users into member or casual riders over the years\n",
        "list_year = []\n",
        "list_x = []\n",
        "list_y = list(user_over_year.values)\n",
        "for i, j in user_over_year.index:\n",
        "  list_x.append(j)\n",
        "  list_year.append(str(i))"
      ],
      "metadata": {
        "id": "OONt50wRTOEc"
      },
      "execution_count": 157,
      "outputs": []
    },
    {
      "cell_type": "code",
      "source": [
        "# plotting count of member and casual riders over the years\n",
        "sns.barplot(list_x, list_y, hue = list_year)\n",
        "plt.title(\"Count of member and casual riders over the years\")\n"
      ],
      "metadata": {
        "colab": {
          "base_uri": "https://localhost:8080/",
          "height": 356
        },
        "id": "6E9wKIPxT6hH",
        "outputId": "f9a95e4b-8f13-43c1-8399-f3302593e20c"
      },
      "execution_count": 158,
      "outputs": [
        {
          "output_type": "stream",
          "name": "stderr",
          "text": [
            "/usr/local/lib/python3.7/dist-packages/seaborn/_decorators.py:43: FutureWarning: Pass the following variables as keyword args: x, y. From version 0.12, the only valid positional argument will be `data`, and passing other arguments without an explicit keyword will result in an error or misinterpretation.\n",
            "  FutureWarning\n"
          ]
        },
        {
          "output_type": "execute_result",
          "data": {
            "text/plain": [
              "Text(0.5, 1.0, 'Count of member and casual riders over the years')"
            ]
          },
          "metadata": {},
          "execution_count": 158
        },
        {
          "output_type": "display_data",
          "data": {
            "text/plain": [
              "<Figure size 432x288 with 1 Axes>"
            ],
            "image/png": "[encoded data removed]"
          },
          "metadata": {
            "needs_background": "light"
          }
        }
      ]
    },
    {
      "cell_type": "code",
      "source": [
        "# checking the number of users over months\n",
        "user_over_month = new_df.groupby('month')['member_casual'].value_counts()\n",
        "user_over_month"
      ],
      "metadata": {
        "colab": {
          "base_uri": "https://localhost:8080/"
        },
        "id": "7rpRnIWNUWVJ",
        "outputId": "6645a600-2ea6-49d5-c749-e11aa35cec31"
      },
      "execution_count": 159,
      "outputs": [
        {
          "output_type": "execute_result",
          "data": {
            "text/plain": [
              "month  member_casual\n",
              "1      member            67523\n",
              "       casual            12605\n",
              "2      member            74034\n",
              "       casual            15144\n",
              "3      member           130049\n",
              "       casual            75642\n",
              "4      member           177787\n",
              "       casual           120420\n",
              "5      member           234165\n",
              "       casual           216829\n",
              "6      member           304586\n",
              "       casual           304192\n",
              "7      casual           369415\n",
              "       member           322906\n",
              "8      casual           341476\n",
              "       member           332933\n",
              "9      member           328219\n",
              "       casual           292931\n",
              "10     member           288855\n",
              "       casual           189117\n",
              "11     member           185926\n",
              "       casual            69978\n",
              "12     member           131295\n",
              "       casual            45076\n",
              "Name: member_casual, dtype: int64"
            ]
          },
          "metadata": {},
          "execution_count": 159
        }
      ]
    },
    {
      "cell_type": "code",
      "source": [
        "# to segregate the number of users into member or casual riders over the months\n",
        "list_month = []\n",
        "list_x = []\n",
        "list_y = list(user_over_month.values)\n",
        "for i, j in user_over_month.index:\n",
        "  list_x.append(j)\n",
        "  list_month.append(str(i))"
      ],
      "metadata": {
        "id": "0UqEQY6ZU6A1"
      },
      "execution_count": 160,
      "outputs": []
    },
    {
      "cell_type": "code",
      "source": [
        "# plotting the member and casual riders over the months \n",
        "plt.figure(figsize=(18,8))\n",
        "sns.barplot(list_x, list_y, hue = list_month)\n",
        "plt.title(\"Count of member and casual riders over the months\")\n"
      ],
      "metadata": {
        "colab": {
          "base_uri": "https://localhost:8080/",
          "height": 574
        },
        "id": "RTiHhC1SVWGO",
        "outputId": "31357a70-5d4a-44c5-dd14-d8f5e5546bf8"
      },
      "execution_count": 161,
      "outputs": [
        {
          "output_type": "stream",
          "name": "stderr",
          "text": [
            "/usr/local/lib/python3.7/dist-packages/seaborn/_decorators.py:43: FutureWarning: Pass the following variables as keyword args: x, y. From version 0.12, the only valid positional argument will be `data`, and passing other arguments without an explicit keyword will result in an error or misinterpretation.\n",
            "  FutureWarning\n"
          ]
        },
        {
          "output_type": "execute_result",
          "data": {
            "text/plain": [
              "Text(0.5, 1.0, 'Count of member and casual riders over the months')"
            ]
          },
          "metadata": {},
          "execution_count": 161
        },
        {
          "output_type": "display_data",
          "data": {
            "text/plain": [
              "<Figure size 1296x576 with 1 Axes>"
            ],
            "image/png": "[encoded data removed]"
          },
          "metadata": {
            "needs_background": "light"
          }
        }
      ]
    },
    {
      "cell_type": "code",
      "source": [
        "# checking the number of users for a particular rideable_type\n",
        "ride_type = new_df.groupby('member_casual')['rideable_type'].value_counts()\n",
        "ride_type"
      ],
      "metadata": {
        "colab": {
          "base_uri": "https://localhost:8080/"
        },
        "id": "4-t7FHLXWFoq",
        "outputId": "095cd919-513c-4b78-c770-1cc5a6bd305b"
      },
      "execution_count": 162,
      "outputs": [
        {
          "output_type": "execute_result",
          "data": {
            "text/plain": [
              "member_casual  rideable_type\n",
              "casual         classic_bike     1262694\n",
              "               electric_bike     479172\n",
              "               docked_bike       310959\n",
              "member         classic_bike     1997166\n",
              "               electric_bike     581112\n",
              "Name: rideable_type, dtype: int64"
            ]
          },
          "metadata": {},
          "execution_count": 162
        }
      ]
    },
    {
      "cell_type": "code",
      "source": [
        "# to segregate the number of users into member or casual riders based on the ride type\n",
        "list_member = []\n",
        "list_x = []\n",
        "list_y = list(ride_type.values)\n",
        "for i, j in ride_type.index:\n",
        "  list_x.append(j)\n",
        "  list_member.append(str(i))"
      ],
      "metadata": {
        "id": "Cdk3O6k5Wph4"
      },
      "execution_count": 163,
      "outputs": []
    },
    {
      "cell_type": "code",
      "source": [
        "# plotting the number of users into member or casual riders based on ride type\n",
        "plt.figure(figsize=(18,8))\n",
        "sns.barplot(list_x, list_y, hue= list_member)\n",
        "plt.title(\"Count of member and casual riders over the months\")"
      ],
      "metadata": {
        "colab": {
          "base_uri": "https://localhost:8080/",
          "height": 575
        },
        "id": "g-1AGdnFekt7",
        "outputId": "785c8223-552e-4118-9899-71285909a6bc"
      },
      "execution_count": 164,
      "outputs": [
        {
          "output_type": "stream",
          "name": "stderr",
          "text": [
            "/usr/local/lib/python3.7/dist-packages/seaborn/_decorators.py:43: FutureWarning: Pass the following variables as keyword args: x, y. From version 0.12, the only valid positional argument will be `data`, and passing other arguments without an explicit keyword will result in an error or misinterpretation.\n",
            "  FutureWarning\n"
          ]
        },
        {
          "output_type": "execute_result",
          "data": {
            "text/plain": [
              "Text(0.5, 1.0, 'Count of member and casual riders over the months')"
            ]
          },
          "metadata": {},
          "execution_count": 164
        },
        {
          "output_type": "display_data",
          "data": {
            "text/plain": [
              "<Figure size 1296x576 with 1 Axes>"
            ],
            "image/png": "[encoded data removed]"
          },
          "metadata": {
            "needs_background": "light"
          }
        }
      ]
    },
    {
      "cell_type": "code",
      "source": [
        ""
      ],
      "metadata": {
        "id": "ROszJCSOfPXf"
      },
      "execution_count": 164,
      "outputs": []
    }
  ]
}